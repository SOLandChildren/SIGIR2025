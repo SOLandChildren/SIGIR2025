{
 "cells": [
  {
   "cell_type": "markdown",
   "metadata": {},
   "source": [
    "## Queries"
   ]
  },
  {
   "cell_type": "code",
   "execution_count": 34,
   "metadata": {},
   "outputs": [
    {
     "data": {
      "text/html": [
       "<div>\n",
       "<style scoped>\n",
       "    .dataframe tbody tr th:only-of-type {\n",
       "        vertical-align: middle;\n",
       "    }\n",
       "\n",
       "    .dataframe tbody tr th {\n",
       "        vertical-align: top;\n",
       "    }\n",
       "\n",
       "    .dataframe thead th {\n",
       "        text-align: right;\n",
       "    }\n",
       "</style>\n",
       "<table border=\"1\" class=\"dataframe\">\n",
       "  <thead>\n",
       "    <tr style=\"text-align: right;\">\n",
       "      <th></th>\n",
       "      <th>QID</th>\n",
       "      <th>Query</th>\n",
       "      <th>Prompt Type</th>\n",
       "      <th>Task Sentiment</th>\n",
       "    </tr>\n",
       "  </thead>\n",
       "  <tbody>\n",
       "    <tr>\n",
       "      <th>0</th>\n",
       "      <td>QGEN1</td>\n",
       "      <td>tornado</td>\n",
       "      <td>General</td>\n",
       "      <td>NaN</td>\n",
       "    </tr>\n",
       "    <tr>\n",
       "      <th>1</th>\n",
       "      <td>QGEN2</td>\n",
       "      <td>tornado</td>\n",
       "      <td>General</td>\n",
       "      <td>NaN</td>\n",
       "    </tr>\n",
       "    <tr>\n",
       "      <th>2</th>\n",
       "      <td>QGEN3</td>\n",
       "      <td>piramide egizia</td>\n",
       "      <td>General</td>\n",
       "      <td>NaN</td>\n",
       "    </tr>\n",
       "    <tr>\n",
       "      <th>3</th>\n",
       "      <td>QGEN4</td>\n",
       "      <td>piramidi</td>\n",
       "      <td>General</td>\n",
       "      <td>NaN</td>\n",
       "    </tr>\n",
       "    <tr>\n",
       "      <th>4</th>\n",
       "      <td>QGEN5</td>\n",
       "      <td>qual Ã¨ la piramide egizia piÃ¹ alta</td>\n",
       "      <td>General</td>\n",
       "      <td>NaN</td>\n",
       "    </tr>\n",
       "  </tbody>\n",
       "</table>\n",
       "</div>"
      ],
      "text/plain": [
       "     QID                                 Query Prompt Type Task Sentiment\n",
       "0  QGEN1                               tornado     General            NaN\n",
       "1  QGEN2                              tornado      General            NaN\n",
       "2  QGEN3                      piramide egizia      General            NaN\n",
       "3  QGEN4                             piramidi      General            NaN\n",
       "4  QGEN5  qual Ã¨ la piramide egizia piÃ¹ alta     General            NaN"
      ]
     },
     "execution_count": 34,
     "metadata": {},
     "output_type": "execute_result"
    }
   ],
   "source": [
    "import pandas as pd\n",
    "\n",
    "query_file_name = \"Queries_final.csv\"\n",
    "query_file_path = \"../Data/Queries/\"+query_file_name\n",
    "queries = pd.read_csv(query_file_path)\n",
    "queries.head()"
   ]
  },
  {
   "cell_type": "code",
   "execution_count": 35,
   "metadata": {},
   "outputs": [
    {
     "data": {
      "text/plain": [
       "293"
      ]
     },
     "execution_count": 35,
     "metadata": {},
     "output_type": "execute_result"
    }
   ],
   "source": [
    "len(queries)"
   ]
  },
  {
   "cell_type": "markdown",
   "metadata": {},
   "source": [
    "# Prompts"
   ]
  },
  {
   "cell_type": "code",
   "execution_count": null,
   "metadata": {},
   "outputs": [],
   "source": [
    "baseline = \"Follow these instructions in all your responses: 1. Use Italian language only; 2. Do not use English except in programming language if any.\"\n",
    "user_group_aware = \"Follow these instructions in all your responses: 1. Use Italian language only; 2. Do not use English except in programming language if any.; 3. The response is meant for a child who is 9-11 years old.\"\n",
    "user_need_aware = \"Follow these instructions in all your responses: 1. Use Italian language only; 2. Do not use English except in programming language if any.; 3. The response is meant for a child who is 9-11 years old.; 4. Be mindful of the child's emotional intelligence when generating the response.\"\n",
    "\n",
    "prompts_list = {\n",
    "    \"baseline\": baseline,\n",
    "    \"user_group_aware\": user_group_aware,\n",
    "    \"user_need_aware\": user_need_aware\n",
    "}"
   ]
  },
  {
   "cell_type": "markdown",
   "metadata": {},
   "source": [
    "## ChatGPT"
   ]
  },
  {
   "cell_type": "code",
   "execution_count": 37,
   "metadata": {},
   "outputs": [],
   "source": [
    "from openai import OpenAI\n",
    "import json\n",
    "from tqdm.notebook import tqdm\n",
    "from datetime import date\n",
    "\n",
    "f = open(\"API_keys.json\")\n",
    "data = json.load(f)\n",
    "\n",
    "API_KEY = data[\"openAI_api2\"]\n",
    "f.close()\n",
    "\n",
    "client = OpenAI(\n",
    "    # This is the default and can be omitted\n",
    "    api_key=API_KEY,\n",
    ")\n",
    "\n",
    "\n",
    "model_id = 'chatgpt-4o-latest'\n",
    "\n",
    "def get_gpt_resp(query, instructions):\n",
    "    response = client.chat.completions.create(\n",
    "        messages=[\n",
    "            {\n",
    "                \"role\": \"system\",\n",
    "                \"content\": instructions\n",
    "            },\n",
    "            {\n",
    "                \"role\": \"user\",\n",
    "                \"content\": query,\n",
    "            }\n",
    "        ],\n",
    "            model=model_id,\n",
    "        )\n",
    "\n",
    "    gpt_resp = response.choices[0].message.content\n",
    "\n",
    "    return gpt_resp\n",
    "\n",
    "# get_gpt_resp(\"Hello how are you?\", \"Respond in Italian.\")"
   ]
  },
  {
   "cell_type": "code",
   "execution_count": null,
   "metadata": {},
   "outputs": [],
   "source": [
    "for prompt in prompts_list:\n",
    "    LLM_resp = []\n",
    "    for _, row in tqdm(queries.iterrows(), total=len(queries)):\n",
    "        qid = row[\"QID\"]\n",
    "        query = row[\"Query\"]\n",
    "        task_sent = row[\"Task Sentiment\"]\n",
    "        instructions = prompts_list[prompt]\n",
    "        # print(instructions)\n",
    "        result = get_gpt_resp(query, instructions)\n",
    "        # print(prompt)\n",
    "        LLM_resp.append([prompt, qid, task_sent, \"GPT\", result, date.today()])\n",
    "\n",
    "    LLM_resp_df = pd.DataFrame(LLM_resp, columns=[\"Prompt Type\", \"QID\", \"Task Sentiment\", \"IAS\", \"Resp\", \"date_generated\"])\n",
    "    file_name = \"gpt_resp_\" + prompt + \".csv\"\n",
    "    LLM_resp_df.to_csv(\"../Data/\"+file_name, index=False)\n",
    "    # print(LLM_resp_df.head(2))"
   ]
  },
  {
   "cell_type": "markdown",
   "metadata": {},
   "source": [
    "## Google Gemma"
   ]
  },
  {
   "cell_type": "code",
   "execution_count": 33,
   "metadata": {},
   "outputs": [],
   "source": [
    "import json\n",
    "from huggingface_hub import whoami\n",
    "\n",
    "f = open(\"API_keys.json\")\n",
    "data = json.load(f)\n",
    "api_token = data[\"huggingface_api\"]\n",
    "f.close()\n",
    "\n",
    "user = whoami(token=api_token)"
   ]
  },
  {
   "cell_type": "code",
   "execution_count": null,
   "metadata": {},
   "outputs": [],
   "source": [
    "from huggingface_hub import login\n",
    "\n",
    "login()"
   ]
  },
  {
   "cell_type": "code",
   "execution_count": null,
   "metadata": {},
   "outputs": [],
   "source": [
    "import torch\n",
    "from transformers import AutoModelForCausalLM, AutoTokenizer, pipeline\n",
    "\n",
    "# Specify the LLM model we'll be using\n",
    "model_name = \"google/gemma-2-2b-it\"\n",
    "\n",
    "# Configure for GPU usage\n",
    "model = AutoModelForCausalLM.from_pretrained(\n",
    "    model_name,\n",
    "    device_map=\"auto\",\n",
    "    torch_dtype=torch.bfloat16,\n",
    "    trust_remote_code=True,\n",
    ")\n",
    "\n",
    "# Load the tokenizer for the chosen model\n",
    "tokenizer = AutoTokenizer.from_pretrained(model_name)\n",
    "# Create a pipeline object for easy text generation with the LLM\n",
    "pipe = pipeline(\"text-generation\", model=model_name)\n",
    "\n",
    "def get_gemma_resp(query, instructions):\n",
    "  \"\"\"Sends a conversation history to the AI assistant and returns the answer.\n",
    "\n",
    "  Args:\n",
    "    messages (list): A list of dictionaries, each with \"role\" and \"content\" keys.\n",
    "\n",
    "  Returns:\n",
    "    str: The answer from the AI assistant.\n",
    "  \"\"\"\n",
    "\n",
    "  messages = [\n",
    "      {\"role\":\"user\", \"content\":\"\"},\n",
    "      {\"role\": \"assistant\", \"content\": instructions},\n",
    "      {\"role\": \"user\", \"content\": query}\n",
    "  ]\n",
    "\n",
    "  generation_args = {\n",
    "      # \"max_new_tokens\": 256,     # Maximum length of the response\n",
    "      \"return_full_text\": False,      # Only return the generated text\n",
    "  }\n",
    "\n",
    "  output = pipe(messages, **generation_args)\n",
    "  return output[0]['generated_text']\n",
    "\n",
    "get_gemma_resp(\"Hi!\", \"Respond in Italian.\")"
   ]
  },
  {
   "cell_type": "code",
   "execution_count": null,
   "metadata": {},
   "outputs": [],
   "source": [
    "from tqdm.notebook import tqdm\n",
    "from datetime import date\n",
    "import pandas as pd\n",
    "\n",
    "for prompt in prompts_list:\n",
    "    LLM_resp = []\n",
    "    for _, row in tqdm(queries.iterrows(), total=len(queries)):\n",
    "        qid = row[\"QID\"]\n",
    "        query = row[\"Query\"]\n",
    "        task_sent = row[\"Task Sentiment\"]\n",
    "        instructions = prompts_list[prompt]\n",
    "        # print(instructions)\n",
    "        result = get_gemma_resp(query, instructions)\n",
    "        # print(prompt)\n",
    "        LLM_resp.append([prompt, qid, task_sent, \"GEM\", result, date.today()])\n",
    "\n",
    "    LLM_resp_df = pd.DataFrame(LLM_resp, columns=[\"Prompt Type\", \"QID\", \"Task Sentiment\", \"IAS\", \"Resp\", \"date_generated\"])\n",
    "    file_name = \"gemma_resp_\" + prompt + \".csv\"\n",
    "    LLM_resp_df.to_csv(\"../Data/\"+file_name, index=False)"
   ]
  }
 ],
 "metadata": {
  "kernelspec": {
   "display_name": "SOLandChildren",
   "language": "python",
   "name": "python3"
  },
  "language_info": {
   "codemirror_mode": {
    "name": "ipython",
    "version": 3
   },
   "file_extension": ".py",
   "mimetype": "text/x-python",
   "name": "python",
   "nbconvert_exporter": "python",
   "pygments_lexer": "ipython3",
   "version": "3.9.19"
  }
 },
 "nbformat": 4,
 "nbformat_minor": 2
}
