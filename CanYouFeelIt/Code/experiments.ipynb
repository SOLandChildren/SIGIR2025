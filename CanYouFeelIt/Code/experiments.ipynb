{
 "cells": [
  {
   "cell_type": "markdown",
   "id": "750f3b2a",
   "metadata": {},
   "source": [
    "## Difference across Task Sentiment"
   ]
  },
  {
   "cell_type": "markdown",
   "id": "233d7ab2",
   "metadata": {},
   "source": []
  },
  {
   "cell_type": "markdown",
   "id": "ee2b44cc",
   "metadata": {},
   "source": [
    "## Difference across Prompt Type"
   ]
  },
  {
   "cell_type": "markdown",
   "id": "11c6eecf",
   "metadata": {},
   "source": []
  }
 ],
 "metadata": {
  "language_info": {
   "name": "python"
  }
 },
 "nbformat": 4,
 "nbformat_minor": 5
}
